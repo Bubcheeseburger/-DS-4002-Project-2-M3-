{
  "nbformat": 4,
  "nbformat_minor": 0,
  "metadata": {
    "colab": {
      "provenance": []
    },
    "kernelspec": {
      "name": "python3",
      "display_name": "Python 3"
    },
    "language_info": {
      "name": "python"
    }
  },
  "cells": [
    {
      "cell_type": "code",
      "source": [
        "!pip install holidays"
      ],
      "metadata": {
        "colab": {
          "base_uri": "https://localhost:8080/"
        },
        "id": "jder_u3sr13I",
        "outputId": "50b2eef3-49b9-49d0-af83-f9f3595a4eac"
      },
      "execution_count": null,
      "outputs": [
        {
          "output_type": "stream",
          "name": "stdout",
          "text": [
            "Requirement already satisfied: holidays in /usr/local/lib/python3.12/dist-packages (0.82)\n",
            "Requirement already satisfied: python-dateutil in /usr/local/lib/python3.12/dist-packages (from holidays) (2.9.0.post0)\n",
            "Requirement already satisfied: six>=1.5 in /usr/local/lib/python3.12/dist-packages (from python-dateutil->holidays) (1.17.0)\n"
          ]
        }
      ]
    },
    {
      "cell_type": "code",
      "source": [
        "import pandas as pd\n",
        "import numpy as np\n",
        "import holidays\n",
        "from datetime import timedelta\n",
        "from sklearn.model_selection import train_test_split\n",
        "import xgboost as xgb\n",
        "from sklearn.metrics import classification_report\n",
        "from statsmodels.tsa.statespace.sarimax import SARIMAX\n",
        "import warnings\n",
        "warnings.filterwarnings('ignore')"
      ],
      "metadata": {
        "id": "DwvYY_1Ju_Mm"
      },
      "execution_count": 23,
      "outputs": []
    },
    {
      "cell_type": "code",
      "execution_count": 24,
      "metadata": {
        "id": "2fYw5g8fgHFA",
        "colab": {
          "base_uri": "https://localhost:8080/"
        },
        "outputId": "5f8010d1-2043-4fc5-e990-71e5a42b64ff"
      },
      "outputs": [
        {
          "output_type": "stream",
          "name": "stdout",
          "text": [
            "Index(['Order Date', 'Category', 'Survey ResponseID', 'Q-demos-gender',\n",
            "       'Q-demos-age', 'Q-demos-income', 'Q-demos-race', 'order_date'],\n",
            "      dtype='object')\n"
          ]
        }
      ],
      "source": [
        "# MORE PREPROCESSING\n",
        "\n",
        "purchase_df =  pd.read_csv('process-purchases(in).csv')\n",
        "\n",
        "purchase_df['order_date'] = pd.to_datetime(purchase_df['Order Date'])\n",
        "\n",
        "print(purchase_df.columns)\n",
        "\n",
        "\n"
      ]
    },
    {
      "cell_type": "code",
      "source": [
        "monthly_orders = (\n",
        "    purchase_df\n",
        "      .groupby(['Category', pd.Grouper(key='order_date', freq='M')])\n",
        "      .size()\n",
        "      .reset_index(name='num_orders')\n",
        "      .sort_values(['Category','order_date'])\n",
        ")\n",
        "\n",
        "print(monthly_orders.head())"
      ],
      "metadata": {
        "colab": {
          "base_uri": "https://localhost:8080/"
        },
        "id": "G37W3DxE3xRv",
        "outputId": "ce65c2b9-eaee-4fb2-88f9-03e2e1963761"
      },
      "execution_count": 25,
      "outputs": [
        {
          "output_type": "stream",
          "name": "stdout",
          "text": [
            "     Category order_date  num_orders\n",
            "0  3D_PRINTER 2018-03-31           1\n",
            "1  3D_PRINTER 2018-06-30           3\n",
            "2  3D_PRINTER 2018-11-30           2\n",
            "3  3D_PRINTER 2018-12-31           1\n",
            "4  3D_PRINTER 2019-02-28           1\n"
          ]
        }
      ]
    },
    {
      "cell_type": "code",
      "source": [
        "top_cats = monthly_orders.groupby('Category')['num_orders'].sum().nlargest(5).index\n",
        "monthly_orders = monthly_orders[monthly_orders['Category'].isin(top_cats)]\n",
        "top_cats"
      ],
      "metadata": {
        "colab": {
          "base_uri": "https://localhost:8080/"
        },
        "id": "a_ofzF823TA5",
        "outputId": "4b56ae20-626f-4dcd-bf9b-ba7b10961f00"
      },
      "execution_count": 26,
      "outputs": [
        {
          "output_type": "execute_result",
          "data": {
            "text/plain": [
              "Index(['ABIS_BOOK', 'PET_FOOD', 'SHIRT', 'GIFT_CARD',\n",
              "       'NUTRITIONAL_SUPPLEMENT'],\n",
              "      dtype='object', name='Category')"
            ]
          },
          "metadata": {},
          "execution_count": 26
        }
      ]
    },
    {
      "cell_type": "code",
      "source": [
        "monthly_orders['month'] = monthly_orders['order_date'].dt.month\n",
        "monthly_orders['year'] = monthly_orders['order_date'].dt.year\n",
        "monthly_orders['season'] = monthly_orders['month'].map({\n",
        "    12:'Winter',1:'Winter',2:'Winter',\n",
        "    3:'Spring',4:'Spring',5:'Spring',\n",
        "    6:'Summer',7:'Summer',8:'Summer',\n",
        "    9:'Fall',10:'Fall',11:'Fall'\n",
        "})\n",
        "\n",
        "monthly_orders['is_weekend'] = monthly_orders['order_date'].dt.dayofweek.isin([5,6]).astype(int)\n",
        "\n",
        "us_holidays = holidays.UnitedStates()\n",
        "\n",
        "monthly_orders['is_holiday'] = monthly_orders['order_date'].isin(us_holidays)\n",
        "\n",
        "\n",
        "def mark_pre_holiday_dates(dates, holiday_dict, window=7):\n",
        "  \"\"\"Return list marking whether each date is within N days before a holiday.\"\"\"\n",
        "  holiday_dates = pd.to_datetime(list(holiday_dict.keys()))\n",
        "  return [\n",
        "      any((h - timedelta(days=window) <= d < h) for h in holiday_dates)\n",
        "      for d in pd.to_datetime(dates)\n",
        "  ]\n",
        "\n",
        "def time_to_nearest_holiday(date):\n",
        "    diffs = [(h - date).days for h in us_holidays]\n",
        "    diffs = [d for d in diffs if d >= 0]\n",
        "    return min(diffs) if diffs else 30  # cap at 30 days\n",
        "\n",
        "monthly_orders['days_to_holiday'] = monthly_orders['order_date'].apply(time_to_nearest_holiday)\n",
        "\n",
        "\n",
        "monthly_orders['is_preholiday'] = (\n",
        "    mark_pre_holiday_dates(monthly_orders['order_date'], us_holidays, window=7)\n",
        ")\n",
        "monthly_orders['is_preholiday'] = monthly_orders['is_preholiday'].astype(int)\n",
        "\n",
        "monthly_orders['is_holiday_season'] = monthly_orders['month'].isin([11,12]).astype(int)\n",
        "monthly_orders['is_back_to_school'] = monthly_orders['month'].isin([8,9]).astype(int)\n",
        "\n",
        "monthly_orders['prev_orders'] = monthly_orders.groupby('Category')['num_orders'].shift(1)\n",
        "monthly_orders['order_diff']  = monthly_orders['num_orders'] - monthly_orders['prev_orders']\n",
        "monthly_orders['growth_rate'] = monthly_orders['order_diff'] / (monthly_orders['prev_orders'] + 1)\n",
        "\n",
        "monthly_orders['roll3_mean'] = (\n",
        "    monthly_orders.groupby('Category')['num_orders'].rolling(3).mean().reset_index(0,drop=True)\n",
        ")\n",
        "monthly_orders['roll6_mean'] = (\n",
        "    monthly_orders.groupby('Category')['num_orders'].rolling(6).mean().reset_index(0,drop=True)\n",
        ")\n",
        "\n",
        "# Fill and create diff features\n",
        "monthly_orders['momentum_3'] = monthly_orders['num_orders'] - monthly_orders['roll3_mean']\n",
        "monthly_orders['momentum_6'] = monthly_orders['num_orders'] - monthly_orders['roll6_mean']\n",
        "\n",
        "monthly_orders = monthly_orders.fillna(0)\n",
        "\n",
        "\n",
        "monthly_orders['month_sin'] = np.sin(2 * np.pi * X['month'] / 12)\n",
        "monthly_orders['month_cos'] = np.cos(2 * np.pi * X['month'] / 12)\n",
        "\n",
        "\n",
        "\n",
        "\n"
      ],
      "metadata": {
        "id": "wvjId1wKCXf5"
      },
      "execution_count": 27,
      "outputs": []
    },
    {
      "cell_type": "code",
      "source": [
        "from sklearn.preprocessing import LabelEncoder\n",
        "X = monthly_orders[[\n",
        "    'month','is_holiday_season',\n",
        "    'prev_orders','growth_rate',\n",
        "    'roll3_mean','roll6_mean',\n",
        "    'momentum_3','momentum_6',\n",
        "    'month_sin','month_cos'\n",
        "]]\n",
        "\n",
        "\n",
        "\n",
        "y = monthly_orders['Category']\n",
        "\n",
        "le = LabelEncoder()\n",
        "y_enc = le.fit_transform(y)"
      ],
      "metadata": {
        "id": "lOHl9slj3Ttv"
      },
      "execution_count": 28,
      "outputs": []
    },
    {
      "cell_type": "code",
      "source": [
        "import xgboost as xgb\n",
        "from sklearn.model_selection import train_test_split\n",
        "from sklearn.preprocessing import LabelEncoder\n",
        "from sklearn.metrics import classification_report, confusion_matrix, accuracy_score\n",
        "\n",
        "from sklearn.model_selection import StratifiedShuffleSplit\n",
        "\n",
        "sss = StratifiedShuffleSplit(n_splits=1, test_size=0.2, random_state=42)\n",
        "for train_idx, test_idx in sss.split(X, y_enc):\n",
        "    X_train, X_test = X.iloc[train_idx], X.iloc[test_idx]\n",
        "    y_train, y_test = y_enc[train_idx], y_enc[test_idx]"
      ],
      "metadata": {
        "id": "vBPITIpZB923"
      },
      "execution_count": 29,
      "outputs": []
    },
    {
      "cell_type": "code",
      "source": [
        "import xgboost as xgb\n",
        "import lightgbm as lgb\n",
        "\n",
        "model = xgb.XGBClassifier(\n",
        "    objective='multi:softprob',\n",
        "    eval_metric='mlogloss',\n",
        "    learning_rate=0.03,\n",
        "    max_depth=5,\n",
        "    n_estimators=500,\n",
        "    subsample=0.9,\n",
        "    colsample_bytree=0.9,\n",
        "    min_child_weight=2,\n",
        "    gamma=0.5,\n",
        "    reg_lambda=1.2,\n",
        "    reg_alpha=0.2,\n",
        "    random_state=42,\n",
        "    n_jobs=1,\n",
        "    verbosity=0\n",
        ")\n",
        "\n",
        "\n",
        "\n",
        "model.fit(X_train, y_train)\n",
        "\n",
        "y_pred_enc = model.predict(X_test)\n",
        "y_pred = le.inverse_transform(y_pred_enc)\n",
        "y_true = le.inverse_transform(y_test)"
      ],
      "metadata": {
        "id": "ueEQ_yP8X8u3"
      },
      "execution_count": 37,
      "outputs": []
    },
    {
      "cell_type": "code",
      "source": [
        "print(\"Accuracy:\", accuracy_score(y_true, y_pred))\n",
        "print(classification_report(y_true, y_pred))"
      ],
      "metadata": {
        "colab": {
          "base_uri": "https://localhost:8080/"
        },
        "id": "UwF_4Y2xEEJh",
        "outputId": "c91f6135-cfec-48d0-c521-9e0b55923cb9"
      },
      "execution_count": 38,
      "outputs": [
        {
          "output_type": "stream",
          "name": "stdout",
          "text": [
            "Accuracy: 0.578125\n",
            "                        precision    recall  f1-score   support\n",
            "\n",
            "             ABIS_BOOK       1.00      1.00      1.00        13\n",
            "             GIFT_CARD       0.36      0.42      0.38        12\n",
            "NUTRITIONAL_SUPPLEMENT       0.57      0.62      0.59        13\n",
            "              PET_FOOD       0.64      0.69      0.67        13\n",
            "                 SHIRT       0.22      0.15      0.18        13\n",
            "\n",
            "              accuracy                           0.58        64\n",
            "             macro avg       0.56      0.58      0.57        64\n",
            "          weighted avg       0.56      0.58      0.57        64\n",
            "\n"
          ]
        }
      ]
    },
    {
      "cell_type": "markdown",
      "source": [
        "**Part 2 - Predicting the Next Category**"
      ],
      "metadata": {
        "id": "2qN4eLfeSgmw"
      }
    },
    {
      "cell_type": "code",
      "source": [],
      "metadata": {
        "id": "lNYbIwlUSkPm"
      },
      "execution_count": null,
      "outputs": []
    }
  ]
}