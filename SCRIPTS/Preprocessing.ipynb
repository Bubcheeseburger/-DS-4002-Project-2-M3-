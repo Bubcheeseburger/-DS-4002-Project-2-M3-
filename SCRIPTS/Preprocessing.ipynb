{
 "cells": [
  {
   "cell_type": "code",
   "execution_count": 1,
   "id": "f18fc84e-4101-4b75-82e9-970264f39547",
   "metadata": {},
   "outputs": [],
   "source": [
    "import os\n",
    "import pandas as pd\n",
    "import matplotlib.pyplot as plt\n",
    "\n",
    "from pathlib import Path\n",
    "\n",
    "data_path1 = Path(\"../DATA/amazon-purchases.csv\")\n",
    "data_path2 = Path(\"../DATA/survey.csv\")\n",
    "output_data = Path(\"../OUTPUT/process-purchases.csv\")"
   ]
  },
  {
   "cell_type": "code",
   "execution_count": 14,
   "id": "733c3e5e-f5fe-4947-92f7-5195205d185e",
   "metadata": {},
   "outputs": [],
   "source": [
    "purchases = pd.read_csv(data_path1)\n",
    "survey = pd.read_csv(data_path2)\n",
    "\n",
    "merged_df = pd.merge(purchases, survey, on=\"Survey ResponseID\", how=\"inner\")\n",
    "\n",
    "columns_to_keep = [\n",
    "    \"Order Date\",\n",
    "    \"Category\",\n",
    "    \"Survey ResponseID\",\n",
    "    \"Q-demos-gender\",\n",
    "    \"Q-demos-age\",\n",
    "    \"Q-demos-income\",\n",
    "    \"Q-demos-race\"\n",
    "]\n",
    "\n",
    "cleaned_df = merged_df[columns_to_keep]\n",
    "cleaned_df = cleaned_df.dropna()\n",
    "\n",
    "cleaned_df.head(10)\n",
    "\n",
    "output_data.parent.mkdir(parents=True, exist_ok=True)\n",
    "cleaned_df.to_csv(output_data, index=False)"
   ]
  },
  {
   "cell_type": "code",
   "execution_count": null,
   "id": "1b031a1e-9c10-4066-a58f-60373eb17ec9",
   "metadata": {},
   "outputs": [],
   "source": []
  }
 ],
 "metadata": {
  "kernelspec": {
   "display_name": "Python [conda env:base] *",
   "language": "python",
   "name": "conda-base-py"
  },
  "language_info": {
   "codemirror_mode": {
    "name": "ipython",
    "version": 3
   },
   "file_extension": ".py",
   "mimetype": "text/x-python",
   "name": "python",
   "nbconvert_exporter": "python",
   "pygments_lexer": "ipython3",
   "version": "3.12.7"
  }
 },
 "nbformat": 4,
 "nbformat_minor": 5
}
